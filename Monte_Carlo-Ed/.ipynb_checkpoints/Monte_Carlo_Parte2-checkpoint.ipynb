{
 "cells": [
  {
   "cell_type": "markdown",
   "id": "43b31ed4",
   "metadata": {},
   "source": [
    "# Monte Carlo Parte 2\n",
    "\n",
    "Dando seguimento em nosso estudo sobre as aplicações do método MC vamos aplicar o método em um sistema molecular. O problema que temos interesse em resolver é:\n",
    "\n",
    "1) Calcular a o trabalho necessário para separar dois átomos de argônio de sua distância de interação no equilíbrio até uma distância no infinito. Considere a distância no infinito de 30 angstrom. Os dados do potencial de Lennard Jones que descrevem bem a interação entre os dois átomos de argônio são: $\\epsilon = 0,2378$ kcal/mol e $\\sigma = 3,41$ angstrom. \n",
    "\n",
    "- Em um primeiro momento vamos calcular o trabalho de maneira analítica e no segundo momento vamos utilizar o método MC para comparar os resultados.\n",
    "\n",
    "###### O Potencial\n",
    "\n",
    "- O potencial de interação não ligado entre os dois átomos de argônio é bem modelado pelo potencial de Lennard - Jones:\n",
    "\n",
    "$$U_{LJ}(r) = 4\\epsilon \\Big[\\Big(\\frac{\\sigma}{r}\\Big)^{12}+\\Big(\\frac{\\sigma}{r}\\Big)^6\\Big].$$\n",
    "\n",
    "- Uma vez que os dois átomos de argônio interagem a partir de uma distância de equilíbrio será necessário saber a distância de equilíbrio da interação, portanto devemos calcular a derivada e igualar a zero.\n",
    "\n",
    "$$\\dfrac{\\partial U_{LJ}}{\\partial r} = 24\\epsilon \\Big[\\Big(\\frac{\\sigma^6}{r^7}\\Big) - 2\\Big(\\frac{\\sigma^{12}}{r^{13}}\\Big)\\Big].$$\n",
    "\n",
    "$$ 0 = 24\\epsilon \\Big[\\Big(\\frac{\\sigma^6}{r^7}\\Big) - 2\\Big(\\frac{\\sigma^{12}}{r^{13}}\\Big)\\Big]$$\n",
    "\n",
    "$$2\\Big(\\frac{\\sigma^{12}}{r^{13}}\\Big) = \\Big(\\frac{\\sigma^6}{r^7}\\Big)$$\n",
    "\n",
    "$$r = 2^{1/6} \\sigma.$$\n",
    "\n",
    "Portando a distância de equilíbrio do sistema é $r_e = 2^{1/6}x3,41 = 3,827$ angstrom.\n",
    "\n",
    "###### A Força\n",
    "\n",
    "A relação entre força e o potencia é dada pelo negativo do gradiente.\n",
    "\n",
    "$$F_{LJ}(r) = - \\dfrac{\\partial U_{LJ}}{\\partial r}$$\n",
    "\n",
    "$$F_{LJ}(r) = 24\\epsilon \\Big[2\\Big(\\frac{\\sigma^{12}}{r^{13}}\\Big) - \\Big(\\frac{\\sigma^6}{r^7}\\Big)\\Big].$$\n",
    "\n",
    "\n",
    "###### O Trabalho\n",
    "\n",
    "O trabalho para separar os dois átomos de argônio é representado pela integral\n",
    "\n",
    "$$W = \\int_{r_e}^{r_{\\infty}} F_{LJ}(r) dr.$$\n",
    "\n",
    "- Para resolver analiticamente o trabalho (W) teremos a seguite integral.\n",
    "\n",
    "$$W = \\int_{3,827}^{30} F_{LJ}(r) dr.$$\n",
    "\n",
    "\n",
    "Vamos resolver analiticamente a integral acima utilizando uma biblioteca de computação simbólica do python, chamada Sympy.\n"
   ]
  },
  {
   "cell_type": "code",
   "execution_count": 8,
   "id": "07cf8d1b",
   "metadata": {},
   "outputs": [
    {
     "name": "stdout",
     "output_type": "stream",
     "text": [
      "-0.2378\n"
     ]
    }
   ],
   "source": [
    "import sympy as sy\n",
    "\n",
    "\n",
    "def trabalho_LJ(a, b, epsilon, sigma):\n",
    "    '''\n",
    "    A função recebe os intervalos de integração\n",
    "    inicial e final, o valor das constantes \n",
    "    epsilon, sigma e retorna o valor da integral\n",
    "    do trabalho.\n",
    "    \n",
    "    Unidades de medida\n",
    "    ------------------\n",
    "    epsilon(e)    [kcal/mol]\n",
    "    sigma(si)     [angstrom]\n",
    "    Trabalho(W)   [kcal/mol]\n",
    "    '''\n",
    "    e = epsilon\n",
    "    si = sigma\n",
    "    r = sy.Symbol('r')    \n",
    "    F_LJ = 24*e*(2*(si**12/r**13) - (si**6/r**7))\n",
    "    W = sy.integrate(F_LJ, (r, a, b))\n",
    "    \n",
    "    return round(W, 4)\n",
    "\n",
    "print(trabalho_LJ(3.827, 30, 0.2378, 3.41))\n",
    "\n"
   ]
  },
  {
   "cell_type": "markdown",
   "id": "e65f1074",
   "metadata": {},
   "source": [
    "Desde modo o trabalho necessário para separar dois átomos de argônio de sua posição de equilíbrio até uma certa distância adotada como infinito é -0,2378 kcal/mol.  \n",
    "\n",
    "1.1) Podemos resolver esse problema utilizando a regra do trapézio composta.  "
   ]
  },
  {
   "cell_type": "code",
   "execution_count": 13,
   "id": "a96cd6b4",
   "metadata": {},
   "outputs": [
    {
     "name": "stdout",
     "output_type": "stream",
     "text": [
      "Valor da Integral: W = -0.2137\n"
     ]
    }
   ],
   "source": [
    "import numpy as np\n",
    "\n",
    "\n",
    "def funcao(r, e, si):\n",
    "    '''\n",
    "    Recebe uma lista de valores e retorna\n",
    "    a função que deseja integrar.\n",
    "    '''\n",
    "    F_LJ = 24*e*(2*(si**12/r**13) - (si**6/r**7))\n",
    "    return F_LJ\n",
    "\n",
    "def regra_trapezio_comp(x, y):\n",
    "    '''\n",
    "    Recebe duas listas de valores e retorna\n",
    "    o valor calculado pelo método da regra\n",
    "    do trapézio composta.\n",
    "    '''\n",
    "    regra_trap = []\n",
    "    n = len(x)\n",
    "    for i in range(n):\n",
    "        if i == 0 or i == n-1:\n",
    "            regra_trap.append(y[i])\n",
    "        else:\n",
    "            regra_trap.append(2*y[i])\n",
    "    w = (h/2)*sum(regra_trap)\n",
    "\n",
    "    return round(w, 4)\n",
    "\n",
    "\n",
    "intervalo_ini = 3.827\n",
    "intervalo_final = 30\n",
    "epsilon =  0.2378\n",
    "sigma = 3.41\n",
    "\n",
    "sub_divisoes = 60\n",
    "h = (intervalo_final - intervalo_ini) / sub_divisoes\n",
    "\n",
    "x = [i for i in np.arange(intervalo_ini, intervalo_final+0.1, h)]\n",
    "y = [round(funcao(i, epsilon, sigma), 4) for i in x]\n",
    "W = regra_trapezio_comp(x, y)\n",
    "\n",
    "print(f'Valor da Integral: W = {W}')"
   ]
  },
  {
   "cell_type": "code",
   "execution_count": null,
   "id": "7188c78f",
   "metadata": {},
   "outputs": [],
   "source": []
  }
 ],
 "metadata": {
  "kernelspec": {
   "display_name": "Python 3 (ipykernel)",
   "language": "python",
   "name": "python3"
  },
  "language_info": {
   "codemirror_mode": {
    "name": "ipython",
    "version": 3
   },
   "file_extension": ".py",
   "mimetype": "text/x-python",
   "name": "python",
   "nbconvert_exporter": "python",
   "pygments_lexer": "ipython3",
   "version": "3.9.7"
  }
 },
 "nbformat": 4,
 "nbformat_minor": 5
}
