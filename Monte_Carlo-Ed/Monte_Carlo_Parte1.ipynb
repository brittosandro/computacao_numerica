{
 "cells": [
  {
   "cell_type": "markdown",
   "id": "a8832a49",
   "metadata": {},
   "source": [
    "# Monte Carlo "
   ]
  },
  {
   "cell_type": "markdown",
   "id": "717aa9d6",
   "metadata": {},
   "source": [
    "A ideia principal do método Monte Carlo (MC) é resolver problemas considerando um espaço de números aleatórios.\n",
    "\n",
    "Em muitos casos podemos trocar a situação de resolver um problema determinístico por um probabilístico análogo. \n",
    "Então a pergunta que surge é: Como resolver esse problema probabilístico? É aí que entra o MC. \n",
    "O método gera uma amostragem de números aleatórios que se repetem um conjunto de n vezes, em que n é o \n",
    "número de experimentos que deseja realizar buscando resolver o problema.\n",
    "\n",
    "Poderíamos resumir o MC da seguinte maneira: é um método que gera números aleatórios para comporem amostras \n",
    "buscando resolver problemas probabilísticos.\n"
   ]
  },
  {
   "cell_type": "markdown",
   "id": "0b967824",
   "metadata": {},
   "source": [
    "## A constante $\\pi$"
   ]
  },
  {
   "cell_type": "markdown",
   "id": "30cb808f",
   "metadata": {},
   "source": [
    "Como primeiro exemplo de aplicação do método MC, vamos calcular o valor da constante $\\pi$. De maneira determinística sabemos que o valor da constante $\\pi$ surge da razão entre o perímetro de um círculo e o seu diâmetro. Para calcular o valor de $\\pi$ usando MC, vamos considerar um círculo de raio 1cm inscrito em um quadrado cujo lado é igual a 2cm. A figura abaixo mostra o que estamos buscando representar.\n",
    "\n",
    "<img src=\"circulo1.png\" width=\"260\" height=\"260\">\n",
    "\n",
    "Para propor o valor de $\\pi$ vamos fazer a razão entre as áreas do círculo e a área do quadrado $\\frac{A_c}{A_q}$. Com a intensão de facilitar nosso problema, vamos considerar somente o primeiro quadrante. Portanto vamos pegar um quarto da área do círculo, o lado do quadrado correspondente passa a ser 1cm. Logo nossa razão entre as áreas será: $$\\frac{A_c/4}{A_q} = \\frac{\\pi r^2}{4 l^2}.$$\n",
    "\n",
    "Como $l = 1$ (lado do quadrado) e $r = 1$ (raio do círculo), então temos que o valor de $\\pi$ a partir da razão entre as áreas é:\n",
    "\n",
    "$$\\pi = 4\\frac{A_c}{A_q}$$\n",
    "\n",
    "Assim qualquer valor que esteja no intervalo de 0 até 1 corresponde a um ponto dentro do semi-círculo. Observe o ponto $P_1$ que esta dentro da área laranjada.\n",
    "\n",
    "<img src=\"circulo2.png\" width=\"260\" height=\"260\">\n",
    "\n",
    "Portando se atribuimos valores aleatórios de x e y nos intervalos $0 \\le x \\le 1$ e $0 \\le y \\le 1$, poderemos estimar $\\pi$ aplicando o vínculo $r = (x^2 + y^2)^{\\frac{1}{2}}$. Uma vez que todos os pontos chutados estiverem na região que são compreendidas pelo raio estaremos estimando a área do círculo, e os pontos que não estiverem nesse intervalo estão relacionados ao número de vezes que realizamos o experimento. \n",
    "\n",
    "#### Como fazemos:\n",
    "\n",
    "\n",
    "\n"
   ]
  },
  {
   "cell_type": "code",
   "execution_count": 26,
   "id": "4c57edfb",
   "metadata": {},
   "outputs": [
    {
     "name": "stdout",
     "output_type": "stream",
     "text": [
      "Valor de pi = 3.16\n",
      "Erro Relativo = 0.59%\n"
     ]
    }
   ],
   "source": [
    "import numpy as np\n",
    "import random\n",
    "\n",
    "\n",
    "numero_de_experimentos = 100\n",
    "area_do_circulo = 0\n",
    "intervalo_inicial = 0\n",
    "intervalo_final = 1\n",
    "\n",
    "for exps in range(numero_de_experimentos):\n",
    "    x = random.uniform(intervalo_inicial, intervalo_final)\n",
    "    y = random.uniform(intervalo_inicial, intervalo_final)\n",
    "    r = (x**2 + y**2) ** (1/2)\n",
    "    if r <= 1:\n",
    "        area_do_circulo += 1\n",
    "    \n",
    "pi = 4*(area_do_circulo/numero_de_experimentos)\n",
    "\n",
    "erro_absoluto = np.abs(np.pi - pi)\n",
    "erro_relativo = (erro_absoluto/np.pi) * 100\n",
    "\n",
    "print(f'Valor de pi = {pi}')\n",
    "print(f'Erro Relativo = {round(erro_relativo, 2)}%')"
   ]
  },
  {
   "cell_type": "markdown",
   "id": "c5e7523f",
   "metadata": {},
   "source": [
    "Vamos melhorar o código acima criando uma função para executar essa tarefa."
   ]
  },
  {
   "cell_type": "code",
   "execution_count": 29,
   "id": "6e966c5b",
   "metadata": {},
   "outputs": [
    {
     "name": "stdout",
     "output_type": "stream",
     "text": [
      "[3.5555555555555554, 3.393939393939394, 3.1631631631631634, 3.1383138313831385, 3.140591405914059, 3.1410831410831412]\n",
      "[13.176848420903347, 8.032446219953204, 0.6866106447225853, 0.10436815234171279, 0.03187070337047298, 0.01621828680015768]\n"
     ]
    }
   ],
   "source": [
    "import numpy as np\n",
    "import random\n",
    "\n",
    "\n",
    "def calcula_pi(n_experimentos):\n",
    "    '''\n",
    "    Essa função recebe uma lista de valores com\n",
    "    potências de 10 e retorna uma tupla de listas\n",
    "    com os valores estimados de pi e o erro \n",
    "    relativo dos valores.\n",
    "    '''\n",
    "    \n",
    "    interv_inicial = 0\n",
    "    interv_final = 1\n",
    "    \n",
    "    valores_pi = []\n",
    "    erros_relativos = []\n",
    "    for exps in n_experimentos:\n",
    "        area_do_circulo = 0        \n",
    "        for exp in range(exps):\n",
    "            x = random.uniform(interv_inicial, interv_final)\n",
    "            y = random.uniform(interv_inicial, interv_final)\n",
    "            r = (x**2 + y**2) ** (1/2)\n",
    "            if r <= 1:\n",
    "                area_do_circulo += 1\n",
    "                \n",
    "        pi = 4*(area_do_circulo/exp)\n",
    "        \n",
    "        erro_absoluto = np.abs(np.pi - pi)\n",
    "        erro_relativo = (erro_absoluto/np.pi) * 100\n",
    "        \n",
    "        valores_pi.append(pi)\n",
    "        erros_relativos.append(erro_relativo)\n",
    "        \n",
    "    return valores_pi, erros_relativos\n",
    "\n",
    "\n",
    "numero_experimentos = [10, 10**2, 10**3, 10**4, 10**5, 10**6]\n",
    "valores_pi, erros_relativos = calcula_pi(numero_experimentos)\n",
    "\n",
    "print(valores_pi)\n",
    "print(erros_relativos)"
   ]
  },
  {
   "cell_type": "markdown",
   "id": "c52c3800",
   "metadata": {},
   "source": [
    "----"
   ]
  },
  {
   "cell_type": "markdown",
   "id": "3f59208f",
   "metadata": {},
   "source": [
    "### Questões\n",
    "\n",
    "\n",
    "1) Escreva um gráfico do logaritmo do número de experimentos pelo erro relativo.\n",
    "\n",
    "2) Caso seja aumentado o número de experimentos a redução do erro relativo compensa o custo computacional empregado.\n"
   ]
  },
  {
   "cell_type": "markdown",
   "id": "db13d1dd",
   "metadata": {},
   "source": [
    "----"
   ]
  },
  {
   "cell_type": "markdown",
   "id": "4ec589c0",
   "metadata": {},
   "source": [
    "## A Integral\n",
    "\n",
    "Utilizamos o método MC para expressar o valor da constante $\\pi$. Agora vamos tentar resolver o caso de uma integral que conhecemos analiticamente seu resultado. \n",
    "\n",
    "Dado a seguinte integral:\n",
    "\n",
    "$$\\int_{1}^{7}\\frac{1}{x} dx,$$\n",
    "\n",
    "sabemos que a solução analítica dessa integral é \n",
    "\n",
    "$$\\int_{1}^{7}\\frac{1}{x} dx = ln(7) - ln(1) \\approx 1,9459.$$\n",
    "\n",
    "1) Neste primeiro instante vamos usar uma regra de aproximação como a regra do trapézio composta. \n",
    "\n",
    "Uma integral da forma $\\int_{a=x_0}^{b=x_n}f(x)dx$ pode ser aproximada por um valor de $I_1$, em que $I_1$ é dado como:\n",
    "\n",
    "$$I_1 = \\frac{h}{2}(y_0 + y_1).$$\n",
    "\n",
    "  Caso o intervalo de integração $[a, b]$ seja subdividido  em $n$ intervalos igualmente espaçados a cada dois pontos, então:\n",
    "  \n",
    "  $$I_1 = \\frac{h}{2}(y_0 + y_1) + \\frac{h}{2}(y_1+ y_2)+ \\ldots +\\frac{h}{2}(y_{n-1} + y_{n})$$\n",
    "  \n",
    "  $$I_1 = \\frac{h}{2}(y_0 + 2y_1+ 2y_2+ \\ldots +2y_{n-1} + y_{n})$$\n",
    "  \n",
    "  $$I_1 = \\frac{h}{2}\\sum_{h}^{n}c_iy_i,$$\n",
    "\n",
    "com $c_0 = 1$, $c_n = 1$ e $c_i = 2$ para $i = 1, 2, 3, \\ldots, n-1$. \n",
    "\n",
    "O código abaixo descreve a regra do trapézio composta para calcular o integral $\\int_{1}^{7}\\frac{1}{x} dx$.\n"
   ]
  },
  {
   "cell_type": "code",
   "execution_count": 43,
   "id": "6a6bf8cb",
   "metadata": {},
   "outputs": [
    {
     "name": "stdout",
     "output_type": "stream",
     "text": [
      "Valor da Integral: I_1 = 1.9743\n"
     ]
    }
   ],
   "source": [
    "import numpy as np\n",
    "\n",
    "\n",
    "def funcao(x):\n",
    "    '''\n",
    "    Recebe uma lista de valores e retorna\n",
    "    a função que deseja integrar.\n",
    "    '''\n",
    "    return 1/x\n",
    "\n",
    "def regra_trapezio_comp(x, y):\n",
    "    '''\n",
    "    Recebe duas listas de valores e retorna\n",
    "    o valor calculado pelo método da regra\n",
    "    do trapézio composta.\n",
    "    '''\n",
    "    regra_trap = []\n",
    "    n = len(x)\n",
    "    for i in range(n):\n",
    "        if i == 0 or i == n-1:\n",
    "            regra_trap.append(y[i])\n",
    "        else:\n",
    "            regra_trap.append(2*y[i])\n",
    "    I_1 = (h/2)*sum(regra_trap)\n",
    "\n",
    "    return round(I_1, 4)\n",
    "\n",
    "\n",
    "intervalo_ini = 1\n",
    "intervalo_final = 7\n",
    "sub_divisoes = 10\n",
    "h = (intervalo_final - intervalo_ini) / sub_divisoes\n",
    "\n",
    "x = [i for i in np.arange(intervalo_ini, intervalo_final+0.1, h)]\n",
    "y = [round(funcao(i), 4) for i in x]\n",
    "I_1 = regra_trapezio_comp(x, y)\n",
    "\n",
    "print(f'Valor da Integral: I_1 = {I_1}')"
   ]
  },
  {
   "cell_type": "markdown",
   "id": "57c9d95d",
   "metadata": {},
   "source": [
    "Observe como precisamos de apenas 10 subdivisões do intervalo $[1, 7]$ para obter um valor de 1,9742, cujo erro relativo em relação ao valor correto é de 1,4543 %.  \n",
    "\n",
    "2) Agora podemos utilizar o método de Monte Carlo para calcular a mesma integral. A ideia de se resolver uma integral utilizando o MC, considera que poderemos tomar a integral $\\int_{a=x_0}^{b=x_n}f(x)dx$, multiplicar e dividir por uma densidade de probabilidade $\\rho(x)$, obtendo: \n",
    "\n",
    "$$I_2 = \\int_{a=x_0}^{b=x_n}\\frac{f(x)}{\\rho(x)}\\rho(x)dx.$$\n",
    "\n",
    "Deste modo, para resolver a integral $I_2$ considera-se um valor aleatório $\\eta$ em um intervalo $[a, b]$ e calculamos uma média $\\big\\langle \\frac{f(\\eta)}{\\rho(\\eta)} \\big \\rangle$, sendo a densidade de probabilidade dada por\n",
    "\n",
    "$$\\rho(\\eta) = \\frac{1}{b-a}.$$\n",
    "\n",
    "Assim a solução da integral é\n",
    "\n",
    "$$I_2 = (b-a) \\langle f(\\eta) \\rangle_{n}$$\n",
    "\n",
    "$$I_2 = (b-a) \\frac{1}{n} \\sum_{i}^{n} f(\\eta_{i}) ,$$\n",
    "\n",
    "em que n é a quantidade de números aleátorios $\\eta$ que satisfazem a densidade de probabilidade. Vamos criar um programa para calcular a integral $I_2$ considerando diferentes valores de n, como uma lista de valores $[10, 10², 10³, 10⁴, 10⁵, 10⁶]$."
   ]
  },
  {
   "cell_type": "code",
   "execution_count": 17,
   "id": "e53da896",
   "metadata": {},
   "outputs": [
    {
     "name": "stdout",
     "output_type": "stream",
     "text": [
      "Monte Carlo: I_2 = 1.8626\n"
     ]
    }
   ],
   "source": [
    "# Versão 1\n",
    "# Programa que calcula valores de uma integral\n",
    "# via Monte Carlo.\n",
    "\n",
    "\n",
    "import numpy as np\n",
    "import random\n",
    "\n",
    "\n",
    "def funcao(x):\n",
    "    '''\n",
    "    Recebe um valor aleatório \n",
    "    e retorna a função que deseja integrar.\n",
    "    '''\n",
    "    return 1/x\n",
    "\n",
    "intervalo_ini = 1\n",
    "intervalo_final = 7\n",
    "n = 10\n",
    "f_eta = 0\n",
    "\n",
    "for i in range(n):\n",
    "    eta_i = random.uniform(intervalo_ini, intervalo_final)\n",
    "    f_eta += funcao(eta_i)\n",
    "\n",
    "I_2 = round((intervalo_final - intervalo_ini) * (f_eta/n), 4)    \n",
    "    \n",
    "print(f'Monte Carlo: I_2 = {I_2}')\n"
   ]
  },
  {
   "cell_type": "markdown",
   "id": "1e46f04a",
   "metadata": {},
   "source": [
    "Note que no caso acima, com um conjunto de 10 números aleatórios gerados obtemos um valor de 1.8626, sendo o erro relativo em relação ao valor analítico de 4,28 %, ou seja um valor aceitável. Vale a pena ressaltar que se caso você executar novamente o código acima é possível obter um erro maior ou menor. Lembre-se o MC gera números aleatórios em cada lance. Portanto é necessário que nossa amostra seja maior para obtermos valores da integral com mais segurança."
   ]
  },
  {
   "cell_type": "code",
   "execution_count": 1,
   "id": "5902c0a2",
   "metadata": {},
   "outputs": [
    {
     "name": "stdout",
     "output_type": "stream",
     "text": [
      "Monte Carlo: I_2 = 1.9724\n",
      "Monte Carlo: I_2 = 1.9209\n",
      "Monte Carlo: I_2 = 2.0062\n",
      "Monte Carlo: I_2 = 1.9457\n",
      "Monte Carlo: I_2 = 1.9438\n"
     ]
    }
   ],
   "source": [
    "# Versão 2\n",
    "# Programa que calcula valores de uma integral\n",
    "# via Monte Carlo.\n",
    "\n",
    "\n",
    "import numpy as np\n",
    "import random\n",
    "\n",
    "\n",
    "def funcao(x):\n",
    "    '''\n",
    "    Recebe um valor aleatório \n",
    "    e retorna o valor da função \n",
    "    que deseja integrar.\n",
    "    '''\n",
    "    return 1/x\n",
    "\n",
    "intervalo_ini = 1\n",
    "intervalo_final = 7\n",
    "n = [10, 10**2, 10**3, 10**5, 10**6]\n",
    "\n",
    "for n_i in n:\n",
    "    f_eta = 0\n",
    "    for i in range(n_i):\n",
    "        eta_i = random.uniform(intervalo_ini, intervalo_final)\n",
    "        f_eta += funcao(eta_i)\n",
    "\n",
    "    I_2 = round((intervalo_final - intervalo_ini) * (f_eta/n_i), 4)    \n",
    "    print(f'Monte Carlo: I_2 = {I_2}')\n",
    "    "
   ]
  },
  {
   "cell_type": "markdown",
   "id": "1be28566",
   "metadata": {},
   "source": [
    "Se você executar o versão 2 do programa que calcula a integral via MC irá perceber que os valores da integral para as quantidade de números aleatórios de $10⁵$ e $10⁶$ não sofrem grandes modificações. Sendo o erro relativo para $10⁶$ correspondente a  0,056 %."
   ]
  },
  {
   "cell_type": "markdown",
   "id": "fd51676d",
   "metadata": {},
   "source": [
    "----\n",
    "\n",
    "### Questões\n",
    "\n",
    "1) Expresse o valor da integral $\\int_{1}^{7}\\frac{1}{x} dx$ utilizando a primeira regra de Simpson ou regra do 1/3. Justifique se essa regra é melhor ou pior que as utilizadas até aqui, ou seja, a regra do trapézio composta e o método de Monte Carlo.\n",
    "\n",
    "2) Justifique porque no caso da integral $\\int_{1}^{7}\\frac{1}{x} dx$ a regra do trapézio composta pode expressar uma solução com uma quantidade de passos bem menor que o método de MC. Será que poderíamos afirmar que independentemente do tipo de integral a regra do trapézio sempre converge o valor da integral em um número de passos menos que o MC?\n",
    "\n",
    "3) A partir da versão 2 do programa que calcula o valor da integral utilizando MC, escreva um gráfico do erro pela quantidade de passos $[10, 10², 10³, 10⁴, 10⁵, 10⁶]$.\n",
    "\n",
    "----"
   ]
  },
  {
   "cell_type": "code",
   "execution_count": null,
   "id": "262f6b22",
   "metadata": {},
   "outputs": [],
   "source": []
  }
 ],
 "metadata": {
  "kernelspec": {
   "display_name": "Python 3 (ipykernel)",
   "language": "python",
   "name": "python3"
  },
  "language_info": {
   "codemirror_mode": {
    "name": "ipython",
    "version": 3
   },
   "file_extension": ".py",
   "mimetype": "text/x-python",
   "name": "python",
   "nbconvert_exporter": "python",
   "pygments_lexer": "ipython3",
   "version": "3.10.4"
  }
 },
 "nbformat": 4,
 "nbformat_minor": 5
}
